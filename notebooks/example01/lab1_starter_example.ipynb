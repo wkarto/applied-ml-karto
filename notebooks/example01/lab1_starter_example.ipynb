{
 "cells": [
  {
   "cell_type": "markdown",
   "metadata": {},
   "source": [
    "# My first applied machine learning notebook. \n",
    "We are going to get some data about cars and use it to create and evaluate a predictive model.  Here are the steps will we use:\n",
    "1. Read in the data from a CSV file\n",
    "2. Clean the data\n",
    "3. Create a model and fit it to the data\n",
    "4. Get performance metrics for the model"
   ]
  },
  {
   "cell_type": "markdown",
   "metadata": {},
   "source": [
    "### Getting the data:\n",
    "We need to get the data where we can find it.   Copy automobile_price_data3.csv into the same Getting the data:\n",
    "\n",
    "* Assignment is not an expression. Nothing is displayed.\n",
    "* Print will cause something to be displayed.\n",
    "* The last expression evaluated in a cell will be displayed."
   ]
  },
  {
   "cell_type": "code",
   "execution_count": 2,
   "metadata": {},
   "outputs": [],
   "source": [
    "# third cell -"
   ]
  },
  {
   "cell_type": "markdown",
   "metadata": {},
   "source": [
    "### Clean the data:\n",
    "Remove columns or rows that have missing data.\n",
    "Look at the distribution of the data values"
   ]
  },
  {
   "cell_type": "markdown",
   "metadata": {},
   "source": [
    "### Create and train a model\n",
    "We need to split the data into a training set and a test set"
   ]
  },
  {
   "cell_type": "markdown",
   "metadata": {},
   "source": [
    "### Determine the performance of the model"
   ]
  }
 ],
 "metadata": {
  "kernelspec": {
   "display_name": "applied-ml-template (3.12.4)",
   "language": "python",
   "name": "python3"
  },
  "language_info": {
   "codemirror_mode": {
    "name": "ipython",
    "version": 3
   },
   "file_extension": ".py",
   "mimetype": "text/x-python",
   "name": "python",
   "nbconvert_exporter": "python",
   "pygments_lexer": "ipython3",
   "version": "3.12.4"
  }
 },
 "nbformat": 4,
 "nbformat_minor": 4
}
